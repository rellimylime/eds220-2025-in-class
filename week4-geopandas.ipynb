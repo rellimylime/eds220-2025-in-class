{
 "cells": [
  {
   "cell_type": "markdown",
   "id": "c92d9758",
   "metadata": {},
   "source": [
    "# `geopandas`\n",
    "\n",
    "GeoPandas is a Python library that etends `pandas` library by adding support for geospatial data.\n",
    "\n",
    "## Reproducible file paths"
   ]
  },
  {
   "cell_type": "code",
   "execution_count": 1,
   "id": "83d1e8ba",
   "metadata": {},
   "outputs": [],
   "source": [
    "import os\n",
    "import geopandas as gpd\n",
    "import matplotlib.pyplot as plt\n"
   ]
  },
  {
   "cell_type": "markdown",
   "id": "298a4e53",
   "metadata": {},
   "source": [
    "To import our data we will first use the os package to create a reproducible file path:"
   ]
  },
  {
   "cell_type": "code",
   "execution_count": 2,
   "id": "bb35db6a",
   "metadata": {},
   "outputs": [
    {
     "data": {
      "text/plain": [
       "'data\\\\gbif_sus_scrofa_california\\\\gbif_sus_scrofa_california.shp'"
      ]
     },
     "execution_count": 2,
     "metadata": {},
     "output_type": "execute_result"
    }
   ],
   "source": [
    "fp = os.path.join('data','gbif_sus_scrofa_california','gbif_sus_scrofa_california.shp')\n",
    "fp"
   ]
  },
  {
   "cell_type": "code",
   "execution_count": 3,
   "id": "76caffa8",
   "metadata": {},
   "outputs": [
    {
     "data": {
      "text/html": [
       "<div>\n",
       "<style scoped>\n",
       "    .dataframe tbody tr th:only-of-type {\n",
       "        vertical-align: middle;\n",
       "    }\n",
       "\n",
       "    .dataframe tbody tr th {\n",
       "        vertical-align: top;\n",
       "    }\n",
       "\n",
       "    .dataframe thead th {\n",
       "        text-align: right;\n",
       "    }\n",
       "</style>\n",
       "<table border=\"1\" class=\"dataframe\">\n",
       "  <thead>\n",
       "    <tr style=\"text-align: right;\">\n",
       "      <th></th>\n",
       "      <th>gbifID</th>\n",
       "      <th>species</th>\n",
       "      <th>state</th>\n",
       "      <th>individual</th>\n",
       "      <th>day</th>\n",
       "      <th>month</th>\n",
       "      <th>year</th>\n",
       "      <th>inst</th>\n",
       "      <th>collection</th>\n",
       "      <th>catalogNum</th>\n",
       "      <th>identified</th>\n",
       "      <th>geometry</th>\n",
       "    </tr>\n",
       "  </thead>\n",
       "  <tbody>\n",
       "    <tr>\n",
       "      <th>0</th>\n",
       "      <td>899953814</td>\n",
       "      <td>Sus scrofa</td>\n",
       "      <td>California</td>\n",
       "      <td>NaN</td>\n",
       "      <td>22.0</td>\n",
       "      <td>3.0</td>\n",
       "      <td>2014.0</td>\n",
       "      <td>iNaturalist</td>\n",
       "      <td>Observations</td>\n",
       "      <td>581956</td>\n",
       "      <td>edwardrooks</td>\n",
       "      <td>POINT (-121.53812 37.08846)</td>\n",
       "    </tr>\n",
       "    <tr>\n",
       "      <th>1</th>\n",
       "      <td>899951348</td>\n",
       "      <td>Sus scrofa</td>\n",
       "      <td>California</td>\n",
       "      <td>NaN</td>\n",
       "      <td>9.0</td>\n",
       "      <td>6.0</td>\n",
       "      <td>2007.0</td>\n",
       "      <td>iNaturalist</td>\n",
       "      <td>Observations</td>\n",
       "      <td>576047</td>\n",
       "      <td>Bruce Freeman</td>\n",
       "      <td>POINT (-120.54942 35.47354)</td>\n",
       "    </tr>\n",
       "    <tr>\n",
       "      <th>2</th>\n",
       "      <td>896560733</td>\n",
       "      <td>Sus scrofa</td>\n",
       "      <td>California</td>\n",
       "      <td>NaN</td>\n",
       "      <td>20.0</td>\n",
       "      <td>12.0</td>\n",
       "      <td>1937.0</td>\n",
       "      <td>MVZ</td>\n",
       "      <td>Hild</td>\n",
       "      <td>MVZ:Hild:195</td>\n",
       "      <td>Museum of Vertebrate Zoology, University of Ca...</td>\n",
       "      <td>POINT (-122.27063 37.87610)</td>\n",
       "    </tr>\n",
       "    <tr>\n",
       "      <th>3</th>\n",
       "      <td>896559958</td>\n",
       "      <td>Sus scrofa</td>\n",
       "      <td>California</td>\n",
       "      <td>NaN</td>\n",
       "      <td>1.0</td>\n",
       "      <td>4.0</td>\n",
       "      <td>1969.0</td>\n",
       "      <td>MVZ</td>\n",
       "      <td>Hild</td>\n",
       "      <td>MVZ:Hild:1213</td>\n",
       "      <td>Museum of Vertebrate Zoology, University of Ca...</td>\n",
       "      <td>POINT (-121.82297 38.44543)</td>\n",
       "    </tr>\n",
       "    <tr>\n",
       "      <th>4</th>\n",
       "      <td>896559722</td>\n",
       "      <td>Sus scrofa</td>\n",
       "      <td>California</td>\n",
       "      <td>NaN</td>\n",
       "      <td>1.0</td>\n",
       "      <td>1.0</td>\n",
       "      <td>1961.0</td>\n",
       "      <td>MVZ</td>\n",
       "      <td>Hild</td>\n",
       "      <td>MVZ:Hild:1004</td>\n",
       "      <td>Museum of Vertebrate Zoology, University of Ca...</td>\n",
       "      <td>POINT (-121.74559 38.54882)</td>\n",
       "    </tr>\n",
       "  </tbody>\n",
       "</table>\n",
       "</div>"
      ],
      "text/plain": [
       "      gbifID     species       state  individual   day  month    year  \\\n",
       "0  899953814  Sus scrofa  California         NaN  22.0    3.0  2014.0   \n",
       "1  899951348  Sus scrofa  California         NaN   9.0    6.0  2007.0   \n",
       "2  896560733  Sus scrofa  California         NaN  20.0   12.0  1937.0   \n",
       "3  896559958  Sus scrofa  California         NaN   1.0    4.0  1969.0   \n",
       "4  896559722  Sus scrofa  California         NaN   1.0    1.0  1961.0   \n",
       "\n",
       "          inst    collection     catalogNum  \\\n",
       "0  iNaturalist  Observations         581956   \n",
       "1  iNaturalist  Observations         576047   \n",
       "2          MVZ          Hild   MVZ:Hild:195   \n",
       "3          MVZ          Hild  MVZ:Hild:1213   \n",
       "4          MVZ          Hild  MVZ:Hild:1004   \n",
       "\n",
       "                                          identified  \\\n",
       "0                                        edwardrooks   \n",
       "1                                      Bruce Freeman   \n",
       "2  Museum of Vertebrate Zoology, University of Ca...   \n",
       "3  Museum of Vertebrate Zoology, University of Ca...   \n",
       "4  Museum of Vertebrate Zoology, University of Ca...   \n",
       "\n",
       "                      geometry  \n",
       "0  POINT (-121.53812 37.08846)  \n",
       "1  POINT (-120.54942 35.47354)  \n",
       "2  POINT (-122.27063 37.87610)  \n",
       "3  POINT (-121.82297 38.44543)  \n",
       "4  POINT (-121.74559 38.54882)  "
      ]
     },
     "execution_count": 3,
     "metadata": {},
     "output_type": "execute_result"
    }
   ],
   "source": [
    "pigs = gpd.read_file(fp)\n",
    "pigs.head()"
   ]
  },
  {
   "cell_type": "code",
   "execution_count": null,
   "id": "76c37f04",
   "metadata": {},
   "outputs": [],
   "source": [
    "california_fp = os.path.join('data','ca_state_boundary','ca_state_boundary.shp')"
   ]
  },
  {
   "cell_type": "code",
   "execution_count": 8,
   "id": "75a1bd0a",
   "metadata": {},
   "outputs": [
    {
     "data": {
      "text/html": [
       "<div>\n",
       "<style scoped>\n",
       "    .dataframe tbody tr th:only-of-type {\n",
       "        vertical-align: middle;\n",
       "    }\n",
       "\n",
       "    .dataframe tbody tr th {\n",
       "        vertical-align: top;\n",
       "    }\n",
       "\n",
       "    .dataframe thead th {\n",
       "        text-align: right;\n",
       "    }\n",
       "</style>\n",
       "<table border=\"1\" class=\"dataframe\">\n",
       "  <thead>\n",
       "    <tr style=\"text-align: right;\">\n",
       "      <th></th>\n",
       "      <th>REGION</th>\n",
       "      <th>DIVISION</th>\n",
       "      <th>STATEFP</th>\n",
       "      <th>STATENS</th>\n",
       "      <th>GEOID</th>\n",
       "      <th>STUSPS</th>\n",
       "      <th>NAME</th>\n",
       "      <th>LSAD</th>\n",
       "      <th>MTFCC</th>\n",
       "      <th>FUNCSTAT</th>\n",
       "      <th>ALAND</th>\n",
       "      <th>AWATER</th>\n",
       "      <th>INTPTLAT</th>\n",
       "      <th>INTPTLON</th>\n",
       "      <th>geometry</th>\n",
       "    </tr>\n",
       "  </thead>\n",
       "  <tbody>\n",
       "    <tr>\n",
       "      <th>0</th>\n",
       "      <td>4</td>\n",
       "      <td>9</td>\n",
       "      <td>06</td>\n",
       "      <td>01779778</td>\n",
       "      <td>06</td>\n",
       "      <td>CA</td>\n",
       "      <td>California</td>\n",
       "      <td>00</td>\n",
       "      <td>G4000</td>\n",
       "      <td>A</td>\n",
       "      <td>403501101370</td>\n",
       "      <td>20466718403</td>\n",
       "      <td>+37.1551773</td>\n",
       "      <td>-119.5434183</td>\n",
       "      <td>MULTIPOLYGON (((-119.63473 33.26545, -119.6363...</td>\n",
       "    </tr>\n",
       "  </tbody>\n",
       "</table>\n",
       "</div>"
      ],
      "text/plain": [
       "  REGION DIVISION STATEFP   STATENS GEOID STUSPS        NAME LSAD  MTFCC  \\\n",
       "0      4        9      06  01779778    06     CA  California   00  G4000   \n",
       "\n",
       "  FUNCSTAT         ALAND       AWATER     INTPTLAT      INTPTLON  \\\n",
       "0        A  403501101370  20466718403  +37.1551773  -119.5434183   \n",
       "\n",
       "                                            geometry  \n",
       "0  MULTIPOLYGON (((-119.63473 33.26545, -119.6363...  "
      ]
     },
     "execution_count": 8,
     "metadata": {},
     "output_type": "execute_result"
    }
   ],
   "source": [
    "california = gpd.read_file(california_fp)\n",
    "california.head()"
   ]
  },
  {
   "cell_type": "markdown",
   "id": "1bf0cc25",
   "metadata": {},
   "source": [
    "## GeoSeries and GeoDataFrame\n",
    "The core data structure in `GeoPandas` is the `geopandas.GeoDataFrame`. We can think of it as a `pandas.DataFrame` with a dedicated geometry column that can perform spatial operations.\n",
    "\n",
    "The **geometry column** in a `geopandas.GeoDataFrame` holds the geometry (point, polygon, etc.) of each spatial feature. This geometry column is of type `geopandas.GeoSeries`. Columns in the `geopandas.GeoDataFrame` with attributes about the features are `pandas.Series` like in a regular pandas.DataFrame."
   ]
  },
  {
   "cell_type": "code",
   "execution_count": 10,
   "id": "f828c4da",
   "metadata": {},
   "outputs": [
    {
     "data": {
      "text/html": [
       "<div>\n",
       "<style scoped>\n",
       "    .dataframe tbody tr th:only-of-type {\n",
       "        vertical-align: middle;\n",
       "    }\n",
       "\n",
       "    .dataframe tbody tr th {\n",
       "        vertical-align: top;\n",
       "    }\n",
       "\n",
       "    .dataframe thead th {\n",
       "        text-align: right;\n",
       "    }\n",
       "</style>\n",
       "<table border=\"1\" class=\"dataframe\">\n",
       "  <thead>\n",
       "    <tr style=\"text-align: right;\">\n",
       "      <th></th>\n",
       "      <th>gbifID</th>\n",
       "      <th>species</th>\n",
       "      <th>state</th>\n",
       "      <th>individual</th>\n",
       "      <th>day</th>\n",
       "      <th>month</th>\n",
       "      <th>year</th>\n",
       "      <th>inst</th>\n",
       "      <th>collection</th>\n",
       "      <th>catalogNum</th>\n",
       "      <th>identified</th>\n",
       "      <th>geometry</th>\n",
       "    </tr>\n",
       "  </thead>\n",
       "  <tbody>\n",
       "    <tr>\n",
       "      <th>0</th>\n",
       "      <td>899953814</td>\n",
       "      <td>Sus scrofa</td>\n",
       "      <td>California</td>\n",
       "      <td>NaN</td>\n",
       "      <td>22.0</td>\n",
       "      <td>3.0</td>\n",
       "      <td>2014.0</td>\n",
       "      <td>iNaturalist</td>\n",
       "      <td>Observations</td>\n",
       "      <td>581956</td>\n",
       "      <td>edwardrooks</td>\n",
       "      <td>POINT (-121.53812 37.08846)</td>\n",
       "    </tr>\n",
       "    <tr>\n",
       "      <th>1</th>\n",
       "      <td>899951348</td>\n",
       "      <td>Sus scrofa</td>\n",
       "      <td>California</td>\n",
       "      <td>NaN</td>\n",
       "      <td>9.0</td>\n",
       "      <td>6.0</td>\n",
       "      <td>2007.0</td>\n",
       "      <td>iNaturalist</td>\n",
       "      <td>Observations</td>\n",
       "      <td>576047</td>\n",
       "      <td>Bruce Freeman</td>\n",
       "      <td>POINT (-120.54942 35.47354)</td>\n",
       "    </tr>\n",
       "    <tr>\n",
       "      <th>2</th>\n",
       "      <td>896560733</td>\n",
       "      <td>Sus scrofa</td>\n",
       "      <td>California</td>\n",
       "      <td>NaN</td>\n",
       "      <td>20.0</td>\n",
       "      <td>12.0</td>\n",
       "      <td>1937.0</td>\n",
       "      <td>MVZ</td>\n",
       "      <td>Hild</td>\n",
       "      <td>MVZ:Hild:195</td>\n",
       "      <td>Museum of Vertebrate Zoology, University of Ca...</td>\n",
       "      <td>POINT (-122.27063 37.87610)</td>\n",
       "    </tr>\n",
       "  </tbody>\n",
       "</table>\n",
       "</div>"
      ],
      "text/plain": [
       "      gbifID     species       state  individual   day  month    year  \\\n",
       "0  899953814  Sus scrofa  California         NaN  22.0    3.0  2014.0   \n",
       "1  899951348  Sus scrofa  California         NaN   9.0    6.0  2007.0   \n",
       "2  896560733  Sus scrofa  California         NaN  20.0   12.0  1937.0   \n",
       "\n",
       "          inst    collection    catalogNum  \\\n",
       "0  iNaturalist  Observations        581956   \n",
       "1  iNaturalist  Observations        576047   \n",
       "2          MVZ          Hild  MVZ:Hild:195   \n",
       "\n",
       "                                          identified  \\\n",
       "0                                        edwardrooks   \n",
       "1                                      Bruce Freeman   \n",
       "2  Museum of Vertebrate Zoology, University of Ca...   \n",
       "\n",
       "                      geometry  \n",
       "0  POINT (-121.53812 37.08846)  \n",
       "1  POINT (-120.54942 35.47354)  \n",
       "2  POINT (-122.27063 37.87610)  "
      ]
     },
     "execution_count": 10,
     "metadata": {},
     "output_type": "execute_result"
    }
   ],
   "source": [
    "pigs.head(3)"
   ]
  },
  {
   "cell_type": "code",
   "execution_count": 9,
   "id": "bc325d32",
   "metadata": {},
   "outputs": [
    {
     "name": "stdout",
     "output_type": "stream",
     "text": [
      "<class 'geopandas.geodataframe.GeoDataFrame'>\n",
      "<class 'geopandas.geoseries.GeoSeries'>\n",
      "<class 'pandas.core.series.Series'>\n"
     ]
    }
   ],
   "source": [
    "# Check the data type of the pigs dataframe \n",
    "print(type(pigs))\n",
    "\n",
    "# Check the data type of the geometry column\n",
    "print(type(pigs.geometry))\n",
    "\n",
    "# Check the data type of the gbifID column\n",
    "print(type(pigs.gbifID))"
   ]
  },
  {
   "cell_type": "code",
   "execution_count": 11,
   "id": "cb74dd7b",
   "metadata": {},
   "outputs": [
    {
     "data": {
      "text/plain": [
       "gbifID           int64\n",
       "species         object\n",
       "state           object\n",
       "individual     float64\n",
       "day            float64\n",
       "month          float64\n",
       "year           float64\n",
       "inst            object\n",
       "collection      object\n",
       "catalogNum      object\n",
       "identified      object\n",
       "geometry      geometry\n",
       "dtype: object"
      ]
     },
     "execution_count": 11,
     "metadata": {},
     "output_type": "execute_result"
    }
   ],
   "source": [
    "# Check the data type of each column\n",
    "pigs.dtypes"
   ]
  },
  {
   "cell_type": "markdown",
   "id": "23fd56ca",
   "metadata": {},
   "source": [
    "We can also check the type of each element in the geometry column using the `geom_type` attribute of a `geopandas.GeoDataFrame`:"
   ]
  },
  {
   "cell_type": "code",
   "execution_count": 12,
   "id": "1d2f14b8",
   "metadata": {},
   "outputs": [
    {
     "data": {
      "text/plain": [
       "0       Point\n",
       "1       Point\n",
       "2       Point\n",
       "3       Point\n",
       "4       Point\n",
       "        ...  \n",
       "1041    Point\n",
       "1042    Point\n",
       "1043    Point\n",
       "1044    Point\n",
       "1045    Point\n",
       "Length: 1046, dtype: object"
      ]
     },
     "execution_count": 12,
     "metadata": {},
     "output_type": "execute_result"
    }
   ],
   "source": [
    "pigs.geom_type"
   ]
  },
  {
   "cell_type": "code",
   "execution_count": 14,
   "id": "0197fbf7",
   "metadata": {},
   "outputs": [
    {
     "data": {
      "text/plain": [
       "0    MultiPolygon\n",
       "dtype: object"
      ]
     },
     "execution_count": 14,
     "metadata": {},
     "output_type": "execute_result"
    }
   ],
   "source": [
    "california.geom_type"
   ]
  },
  {
   "cell_type": "markdown",
   "id": "7e096452",
   "metadata": {},
   "source": [
    "## CRS\n",
    "Two other important attributes of a `geopandas.GeoDataFrame` are its coordinate reference system (CRS) and its extent.\n",
    "\n",
    "We can think of the **coordinate reference system (CRS)** as the instructions to locate each spatial feature of our data frame on the surface of the Earth. We access the CRS of a `geopandas.GeoDataFrame` using the crs attribute:"
   ]
  },
  {
   "cell_type": "code",
   "execution_count": 15,
   "id": "610688fd",
   "metadata": {},
   "outputs": [
    {
     "data": {
      "text/plain": [
       "<Geographic 2D CRS: EPSG:4326>\n",
       "Name: WGS 84\n",
       "Axis Info [ellipsoidal]:\n",
       "- Lat[north]: Geodetic latitude (degree)\n",
       "- Lon[east]: Geodetic longitude (degree)\n",
       "Area of Use:\n",
       "- name: World.\n",
       "- bounds: (-180.0, -90.0, 180.0, 90.0)\n",
       "Datum: World Geodetic System 1984 ensemble\n",
       "- Ellipsoid: WGS 84\n",
       "- Prime Meridian: Greenwich"
      ]
     },
     "execution_count": 15,
     "metadata": {},
     "output_type": "execute_result"
    }
   ],
   "source": [
    "# Access the CRS of the GeoDataFrame\n",
    "pigs.crs"
   ]
  },
  {
   "cell_type": "markdown",
   "id": "74ecd3b3",
   "metadata": {},
   "source": [
    "The CRS for our data is the World Geodetic System 1984 (WGS84), represented by the code EPSG:4326. It uses latitude and longitude in degrees to represent places on Earth. This is a very popular CRS, used by Google Earth, GPS systems, and many web-based mapping tools, including Google Maps and OpenStreetMap. We can obtain more information about our CRS by accessing other attributes:"
   ]
  },
  {
   "cell_type": "code",
   "execution_count": 16,
   "id": "e6bb2f40",
   "metadata": {},
   "outputs": [
    {
     "name": "stdout",
     "output_type": "stream",
     "text": [
      "Ellipsoid:  WGS 84\n",
      "Datum:  World Geodetic System 1984 ensemble\n",
      "Is geographic?:  True\n",
      "Is projected?:  False\n"
     ]
    }
   ],
   "source": [
    "# Examine CRS details\n",
    "print('Ellipsoid: ', pigs.crs.ellipsoid)\n",
    "print('Datum: ', pigs.crs.datum)\n",
    "print('Is geographic?: ', pigs.crs.is_geographic)\n",
    "print('Is projected?: ', pigs.crs.is_projected)"
   ]
  },
  {
   "cell_type": "markdown",
   "id": "de54eba8",
   "metadata": {},
   "source": [
    "## Extent\n",
    "The **extent** of the geo-dataframe is the bounding box covering all the spatial features in our geo-dataframe. This is formed by finding the points that are furthest west, east, south, and north.\n",
    "\n",
    "We access the extent of a `geopandas.GeoDataFrame` using the total_bounds attribute:"
   ]
  },
  {
   "cell_type": "code",
   "execution_count": 17,
   "id": "1028515b",
   "metadata": {},
   "outputs": [
    {
     "data": {
      "text/plain": [
       "array([-124.29448 ,   32.593433, -115.4356  ,   40.934296])"
      ]
     },
     "execution_count": 17,
     "metadata": {},
     "output_type": "execute_result"
    }
   ],
   "source": [
    "# Obtain the geographic extent of the geo-dataframe\n",
    "pigs.total_bounds"
   ]
  },
  {
   "cell_type": "markdown",
   "id": "5ea4adcb",
   "metadata": {},
   "source": [
    "These four numbers represent the `minx`, `miny`, `maxx`, `maxy` values for the bounds of the entire geo-dataframe."
   ]
  },
  {
   "cell_type": "code",
   "execution_count": 19,
   "id": "72058afc",
   "metadata": {},
   "outputs": [
    {
     "name": "stdout",
     "output_type": "stream",
     "text": [
      "0    MultiPolygon\n",
      "dtype: object\n",
      "[-124.48201686   32.52883674 -114.13122248   42.00950827]\n"
     ]
    }
   ],
   "source": [
    "# Print the CRS and extent of California state boundary\n",
    "print(california.geom_type)\n",
    "\n",
    "print(california.total_bounds)"
   ]
  },
  {
   "cell_type": "markdown",
   "id": "de1a8a03",
   "metadata": {},
   "source": [
    "## Data wrangling\n",
    "\n",
    "GeoPandas is conveniently built on top of `pandas`, so we may use everything we have learned about data selection, wrangling, and modification for a `pandas.DataFrame` to wrange `geopandas.GeoDataFrames`.\n",
    "\n",
    "Example\n",
    "We only want to use recent data for wild pig observations. A quick check shows that this dataframe has data since 1818:"
   ]
  },
  {
   "cell_type": "code",
   "execution_count": 20,
   "id": "c78936ce",
   "metadata": {},
   "outputs": [
    {
     "data": {
      "text/plain": [
       "year\n",
       "1818.0     31\n",
       "1910.0      1\n",
       "1925.0      1\n",
       "1927.0      4\n",
       "1929.0      3\n",
       "         ... \n",
       "2019.0    101\n",
       "2020.0    159\n",
       "2021.0    164\n",
       "2022.0    185\n",
       "2023.0     98\n",
       "Name: count, Length: 61, dtype: int64"
      ]
     },
     "execution_count": 20,
     "metadata": {},
     "output_type": "execute_result"
    }
   ],
   "source": [
    "# Examine pig observation by year\n",
    "pigs['year'].value_counts().sort_index()"
   ]
  },
  {
   "cell_type": "markdown",
   "id": "3935ed13",
   "metadata": {},
   "source": [
    "We can use our usual data selection to get data from 2020 onwards:"
   ]
  },
  {
   "cell_type": "code",
   "execution_count": 21,
   "id": "4c499a22",
   "metadata": {},
   "outputs": [
    {
     "name": "stdout",
     "output_type": "stream",
     "text": [
      "Total number of observations:  1046\n",
      "Number of observations since 2020:  606\n"
     ]
    }
   ],
   "source": [
    "# Select data from 2020 onwards\n",
    "pigs_recent = pigs[pigs.year>=2020]\n",
    "\n",
    "# Check length of original dataframe\n",
    "print('Total number of observations: ' , len(pigs))\n",
    "\n",
    "# Check length of new dataframe\n",
    "print('Number of observations since 2020: ' , len(pigs_recent))"
   ]
  },
  {
   "cell_type": "markdown",
   "id": "cc2e5209",
   "metadata": {},
   "source": [
    "## Create a map\n",
    "\n",
    "### **plot()**\n",
    "Similarly to a `pandas.DataFrame`, a `geopandas.GeoDataFrame` has a plot() method that we can call directly to create a quick view of our data. The geospatial information of the `geopandas.GeoDataFrame` will be used to create the axes of the plot.\n",
    "\n",
    "Example\n",
    "Let’s take a quick look at our recent pigs data:"
   ]
  },
  {
   "cell_type": "code",
   "execution_count": 22,
   "id": "5a71cd64",
   "metadata": {},
   "outputs": [
    {
     "data": {
      "text/plain": [
       "<Axes: >"
      ]
     },
     "execution_count": 22,
     "metadata": {},
     "output_type": "execute_result"
    },
    {
     "data": {
      "image/png": "[encoded data removed]",
      "text/plain": [
       "<Figure size 640x480 with 1 Axes>"
      ]
     },
     "metadata": {},
     "output_type": "display_data"
    }
   ],
   "source": [
    "pigs_recent.plot()"
   ]
  },
  {
   "cell_type": "markdown",
   "id": "3982a7f0",
   "metadata": {},
   "source": [
    "### `matplotlib`'s `fig` and `ax`\n",
    "Going forward, we will make more complex visualizations where we add different layers to a graph and customize it. To do this, we will use the `matplotlib` Python library for creating visualizations. We can interact with `matplotlib` via its pyplot interface, which we imported at the top of the notebook.\n",
    "\n",
    "Matplotlib graphs the data in a **figure** which can have one or more **axes**. The axes is *only* the area specified by the $x$ axis and $y$ axis and what is plotted in it, while the figure can include multiple axes in it.\n",
    "\n",
    "To create a new blank figure:\n",
    "\n",
    "1. Initialize a new figure and axes by calling pyplot’s subplots() function\n",
    "2. Display the figure using plt.show():"
   ]
  },
  {
   "cell_type": "code",
   "execution_count": 23,
   "id": "89435712",
   "metadata": {},
   "outputs": [
    {
     "data": {
      "image/png": "[encoded data removed]",
      "text/plain": [
       "<Figure size 640x480 with 1 Axes>"
      ]
     },
     "metadata": {},
     "output_type": "display_data"
    }
   ],
   "source": [
    "# Initialize empty figure (fig) and axis (ax)\n",
    "fig, ax = plt.subplots()\n",
    "\n",
    "# Display figure\n",
    "plt.show()"
   ]
  },
  {
   "cell_type": "markdown",
   "id": "2274392d",
   "metadata": {},
   "source": [
    "Notice that `plt.subplots()` is a function that returns two objects, when we call it, we get a figure `fig` with a single empty axis `ax`. We can think of this step as setting a new blank canvas on which we will paint upon.\n",
    "\n",
    "### Adding a layer\n",
    "When using `matplotlib`, it can be useful to think of creating a plot as adding layers to an axis. The general syntax to plot data from a dataframe `df` onto an axis is:\n",
    "\n",
    "```\n",
    "# Initialize empty figure and axis\n",
    "fig, ax = plt.subplots()\n",
    "\n",
    "# Plot df on the ax axis\n",
    "df.plot(ax=ax,  # Add plot to axis\n",
    "        ...)    # Other arguments for plot function\n",
    "\n",
    "# Display figure\n",
    "plt.show()\n",
    "```\n",
    "\n",
    "**Example**\n",
    "The first layer that we want to add to our axis is the `pigs_recent` point data. We can plot our data using `matplotlib` like this:"
   ]
  },
  {
   "cell_type": "code",
   "execution_count": 25,
   "id": "0d09074f",
   "metadata": {},
   "outputs": [
    {
     "data": {
      "image/png": "[encoded data removed]",
      "text/plain": [
       "<Figure size 640x480 with 1 Axes>"
      ]
     },
     "metadata": {},
     "output_type": "display_data"
    }
   ],
   "source": [
    "# Initialize empyt figure and axis\n",
    "fig, ax = plt.subplots()\n",
    "\n",
    "# Add pigs point plot to our figure's axis\n",
    "pigs_recent.plot(ax=ax)\n",
    "\n",
    "# Display figure\n",
    "plt.show()"
   ]
  },
  {
   "cell_type": "markdown",
   "id": "ddda643b",
   "metadata": {},
   "source": [
    "### Customization\n",
    "Matplotlib allows for a lot of customization. Some of it can be done directly in the `plot()` method for the dataframe (like we’ve done when ploting data using `pandas`), while other is done by updating attributes of the `ax` axis. The following diagram shows some examples of elements in the axis that can be updated.\n",
    "\n",
    "**Example**\n",
    "Some basic customization for our pigs data could looke like this:"
   ]
  },
  {
   "cell_type": "code",
   "execution_count": 35,
   "id": "ce3bc1d8",
   "metadata": {},
   "outputs": [
    {
     "data": {
      "image/png": "[encoded data removed]",
      "text/plain": [
       "<Figure size 640x480 with 1 Axes>"
      ]
     },
     "metadata": {},
     "output_type": "display_data"
    }
   ],
   "source": [
    "# Initialize empty figure\n",
    "fig, ax = plt.subplots()\n",
    "\n",
    "# Add data to axis\n",
    "california.boundary.plot(ax = ax, color = \"black\", linewidth = 1)\n",
    "\n",
    "pigs_recent.plot(ax=ax,         # Add plot to axis\n",
    "                 alpha=0.5,     # Adjust transparency\n",
    "                 color='brown'  # Update point color\n",
    "                 )\n",
    "\n",
    "\n",
    "# Update axis \n",
    "ax.set_title('Reported \"Sus scrofa\" sightings in CA (2020-2023)')\n",
    "ax.set_xlabel('Longitude')\n",
    "ax.set_ylabel('Latitude')\n",
    "\n",
    "# Display figure\n",
    "plt.show()"
   ]
  },
  {
   "cell_type": "code",
   "execution_count": null,
   "id": "72cfb3e0",
   "metadata": {},
   "outputs": [],
   "source": []
  }
 ],
 "metadata": {
  "kernelspec": {
   "display_name": "eds220-env",
   "language": "python",
   "name": "python3"
  },
  "language_info": {
   "codemirror_mode": {
    "name": "ipython",
    "version": 3
   },
   "file_extension": ".py",
   "mimetype": "text/x-python",
   "name": "python",
   "nbconvert_exporter": "python",
   "pygments_lexer": "ipython3",
   "version": "3.11.4"
  }
 },
 "nbformat": 4,
 "nbformat_minor": 5
}
