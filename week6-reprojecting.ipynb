{
 "cells": [
  {
   "cell_type": "code",
   "execution_count": 1,
   "id": "342c49a6-6b3e-4376-a689-4720ae16f10c",
   "metadata": {
    "tags": []
   },
   "outputs": [],
   "source": [
    "import os\n",
    "import pandas as pd\n",
    "import matplotlib.pyplot as plt\n",
    "import geopandas as gpd"
   ]
  },
  {
   "cell_type": "code",
   "execution_count": 2,
   "id": "4e2bef70-53af-4102-abc4-5cba1c510a33",
   "metadata": {
    "tags": []
   },
   "outputs": [
    {
     "name": "stderr",
     "output_type": "stream",
     "text": [
      "ERROR 1: PROJ: proj_create_from_database: Open of /opt/anaconda3/envs/eds220-env/share/proj failed\n"
     ]
    },
    {
     "data": {
      "text/html": [
       "<div>\n",
       "<style scoped>\n",
       "    .dataframe tbody tr th:only-of-type {\n",
       "        vertical-align: middle;\n",
       "    }\n",
       "\n",
       "    .dataframe tbody tr th {\n",
       "        vertical-align: top;\n",
       "    }\n",
       "\n",
       "    .dataframe thead th {\n",
       "        text-align: right;\n",
       "    }\n",
       "</style>\n",
       "<table border=\"1\" class=\"dataframe\">\n",
       "  <thead>\n",
       "    <tr style=\"text-align: right;\">\n",
       "      <th></th>\n",
       "      <th>admin</th>\n",
       "      <th>type</th>\n",
       "      <th>geometry</th>\n",
       "    </tr>\n",
       "  </thead>\n",
       "  <tbody>\n",
       "    <tr>\n",
       "      <th>0</th>\n",
       "      <td>Zimbabwe</td>\n",
       "      <td>Sovereign country</td>\n",
       "      <td>POLYGON ((31.28789 -22.40205, 31.19727 -22.344...</td>\n",
       "    </tr>\n",
       "    <tr>\n",
       "      <th>1</th>\n",
       "      <td>Zambia</td>\n",
       "      <td>Sovereign country</td>\n",
       "      <td>POLYGON ((30.39609 -15.64307, 30.25068 -15.643...</td>\n",
       "    </tr>\n",
       "    <tr>\n",
       "      <th>2</th>\n",
       "      <td>Yemen</td>\n",
       "      <td>Sovereign country</td>\n",
       "      <td>MULTIPOLYGON (((53.08564 16.64839, 52.58145 16...</td>\n",
       "    </tr>\n",
       "  </tbody>\n",
       "</table>\n",
       "</div>"
      ],
      "text/plain": [
       "      admin               type  \\\n",
       "0  Zimbabwe  Sovereign country   \n",
       "1    Zambia  Sovereign country   \n",
       "2     Yemen  Sovereign country   \n",
       "\n",
       "                                            geometry  \n",
       "0  POLYGON ((31.28789 -22.40205, 31.19727 -22.344...  \n",
       "1  POLYGON ((30.39609 -15.64307, 30.25068 -15.643...  \n",
       "2  MULTIPOLYGON (((53.08564 16.64839, 52.58145 16...  "
      ]
     },
     "execution_count": 2,
     "metadata": {},
     "output_type": "execute_result"
    }
   ],
   "source": [
    "# Import countries shapefile\n",
    "fp = os.path.join('data','ne_50m_admin_0_countries','ne_50m_admin_0_countries.shp')\n",
    "countries = gpd.read_file(fp)\n",
    "countries.columns = countries.columns.str.lower()  # Simplify column names\n",
    "countries = countries[['admin', 'type', 'geometry']]\n",
    "countries.head(3)"
   ]
  },
  {
   "cell_type": "code",
   "execution_count": 3,
   "id": "14703f03-f604-45f3-b364-8cf033e55cf6",
   "metadata": {
    "tags": []
   },
   "outputs": [
    {
     "data": {
      "text/html": [
       "<div>\n",
       "<style scoped>\n",
       "    .dataframe tbody tr th:only-of-type {\n",
       "        vertical-align: middle;\n",
       "    }\n",
       "\n",
       "    .dataframe tbody tr th {\n",
       "        vertical-align: top;\n",
       "    }\n",
       "\n",
       "    .dataframe thead th {\n",
       "        text-align: right;\n",
       "    }\n",
       "</style>\n",
       "<table border=\"1\" class=\"dataframe\">\n",
       "  <thead>\n",
       "    <tr style=\"text-align: right;\">\n",
       "      <th></th>\n",
       "      <th>name</th>\n",
       "      <th>population</th>\n",
       "      <th>country</th>\n",
       "      <th>geoname-id</th>\n",
       "      <th>geometry</th>\n",
       "    </tr>\n",
       "  </thead>\n",
       "  <tbody>\n",
       "    <tr>\n",
       "      <th>0</th>\n",
       "      <td>Udomlya</td>\n",
       "      <td>32373</td>\n",
       "      <td>RU</td>\n",
       "      <td>452949</td>\n",
       "      <td>POINT (34.99250 57.87944)</td>\n",
       "    </tr>\n",
       "    <tr>\n",
       "      <th>1</th>\n",
       "      <td>Valmiera</td>\n",
       "      <td>26963</td>\n",
       "      <td>LV</td>\n",
       "      <td>453754</td>\n",
       "      <td>POINT (25.42751 57.54108)</td>\n",
       "    </tr>\n",
       "    <tr>\n",
       "      <th>2</th>\n",
       "      <td>Ventspils</td>\n",
       "      <td>42644</td>\n",
       "      <td>LV</td>\n",
       "      <td>454310</td>\n",
       "      <td>POINT (21.57288 57.38988)</td>\n",
       "    </tr>\n",
       "    <tr>\n",
       "      <th>3</th>\n",
       "      <td>Vec-Liepāja</td>\n",
       "      <td>85260</td>\n",
       "      <td>LV</td>\n",
       "      <td>454432</td>\n",
       "      <td>POINT (21.01667 56.53333)</td>\n",
       "    </tr>\n",
       "    <tr>\n",
       "      <th>4</th>\n",
       "      <td>Tukums</td>\n",
       "      <td>18348</td>\n",
       "      <td>LV</td>\n",
       "      <td>454768</td>\n",
       "      <td>POINT (23.15528 56.96694)</td>\n",
       "    </tr>\n",
       "  </tbody>\n",
       "</table>\n",
       "</div>"
      ],
      "text/plain": [
       "          name  population country  geoname-id                   geometry\n",
       "0      Udomlya       32373      RU      452949  POINT (34.99250 57.87944)\n",
       "1     Valmiera       26963      LV      453754  POINT (25.42751 57.54108)\n",
       "2    Ventspils       42644      LV      454310  POINT (21.57288 57.38988)\n",
       "3  Vec-Liepāja       85260      LV      454432  POINT (21.01667 56.53333)\n",
       "4       Tukums       18348      LV      454768  POINT (23.15528 56.96694)"
      ]
     },
     "execution_count": 3,
     "metadata": {},
     "output_type": "execute_result"
    }
   ],
   "source": [
    "# Import Arctic communities GeoJSON directly from URL\n",
    "URL = 'https://cn.dataone.org/cn/v2/resolve/urn%3Auuid%3Aed7718ae-fb0d-43dd-9270-fbfe80bfc7a4'\n",
    "communities = gpd.read_file(URL)\n",
    "communities.head()"
   ]
  },
  {
   "cell_type": "code",
   "execution_count": 4,
   "id": "78af9636-8920-4274-bdac-9a30b2c0b039",
   "metadata": {
    "tags": []
   },
   "outputs": [
    {
     "data": {
      "text/html": [
       "<div>\n",
       "<style scoped>\n",
       "    .dataframe tbody tr th:only-of-type {\n",
       "        vertical-align: middle;\n",
       "    }\n",
       "\n",
       "    .dataframe tbody tr th {\n",
       "        vertical-align: top;\n",
       "    }\n",
       "\n",
       "    .dataframe thead th {\n",
       "        text-align: right;\n",
       "    }\n",
       "</style>\n",
       "<table border=\"1\" class=\"dataframe\">\n",
       "  <thead>\n",
       "    <tr style=\"text-align: right;\">\n",
       "      <th></th>\n",
       "      <th>country</th>\n",
       "      <th>admin</th>\n",
       "    </tr>\n",
       "  </thead>\n",
       "  <tbody>\n",
       "    <tr>\n",
       "      <th>0</th>\n",
       "      <td>RU</td>\n",
       "      <td>Russia</td>\n",
       "    </tr>\n",
       "    <tr>\n",
       "      <th>1</th>\n",
       "      <td>LV</td>\n",
       "      <td>Latvia</td>\n",
       "    </tr>\n",
       "    <tr>\n",
       "      <th>2</th>\n",
       "      <td>EE</td>\n",
       "      <td>Estonia</td>\n",
       "    </tr>\n",
       "    <tr>\n",
       "      <th>3</th>\n",
       "      <td>LT</td>\n",
       "      <td>Lithuania</td>\n",
       "    </tr>\n",
       "    <tr>\n",
       "      <th>4</th>\n",
       "      <td>SE</td>\n",
       "      <td>Sweden</td>\n",
       "    </tr>\n",
       "  </tbody>\n",
       "</table>\n",
       "</div>"
      ],
      "text/plain": [
       "  country      admin\n",
       "0      RU     Russia\n",
       "1      LV     Latvia\n",
       "2      EE    Estonia\n",
       "3      LT  Lithuania\n",
       "4      SE     Sweden"
      ]
     },
     "execution_count": 4,
     "metadata": {},
     "output_type": "execute_result"
    }
   ],
   "source": [
    "# Import country names from URL\n",
    "URL = 'https://raw.githubusercontent.com/MEDS-eds-220/MEDS-eds-220-course/refs/heads/main/book/chapters/lesson-12-merge-data/country_names.csv'\n",
    "country_names = pd.read_csv(URL)\n",
    "country_names.head()"
   ]
  }
 ],
 "metadata": {
  "kernelspec": {
   "display_name": "EDS220",
   "language": "python",
   "name": "eds220-env"
  },
  "language_info": {
   "codemirror_mode": {
    "name": "ipython",
    "version": 3
   },
   "file_extension": ".py",
   "mimetype": "text/x-python",
   "name": "python",
   "nbconvert_exporter": "python",
   "pygments_lexer": "ipython3",
   "version": "3.11.4"
  }
 },
 "nbformat": 4,
 "nbformat_minor": 5
}
