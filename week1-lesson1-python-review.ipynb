{
 "cells": [
  {
   "cell_type": "markdown",
   "id": "3a51e4b0-21c4-42cc-b20e-6f9bdd42241f",
   "metadata": {},
   "source": [
    "# Python review\n",
    "\n",
    "Goals:\n",
    "- recall basic Python vocabulary\n",
    "- practice markdown\n",
    "\n",
    "## Libraries and packages\n",
    "\n",
    "**library**: a collection of code that we can use to perform specific taks in our programs\n",
    "\n",
    "**NumPy**:\n",
    "- core library for numerical computing in python\n",
    "- many other pibraries use NumPy arrays as building blocks\n",
    "- computations on NumPy are optomized for speed and memory usage\n",
    "\n",
    "Lets import NumPy with **standard abreviation**"
   ]
  },
  {
   "cell_type": "code",
   "execution_count": 1,
   "id": "7f0b3797-26f2-405d-8b7c-b3038c13f484",
   "metadata": {
    "tags": []
   },
   "outputs": [],
   "source": [
    "import numpy as np"
   ]
  },
  {
   "cell_type": "markdown",
   "id": "69936e08-f0be-4464-8c59-32f4a4c31a3d",
   "metadata": {},
   "source": [
    "## Variables\n",
    "\n",
    "**variable**: a name we assign to a particular object in Python\n",
    "\n",
    "Example:"
   ]
  },
  {
   "cell_type": "code",
   "execution_count": 2,
   "id": "fbcc7cb0-9b57-4f5f-91fd-2be91270458b",
   "metadata": {
    "tags": []
   },
   "outputs": [
    {
     "name": "stdout",
     "output_type": "stream",
     "text": [
      "[[1 1 2]\n",
      " [3 5 8]]\n"
     ]
    }
   ],
   "source": [
    "# Assign a small array to a variable a\n",
    "a = np.array([[1,1,2], [3,5,8]])\n",
    "\n",
    "# Show the value\n",
    "a\n",
    "\n",
    "# Print the value\n",
    "print(a)"
   ]
  },
  {
   "cell_type": "markdown",
   "id": "a2367ab8-c9fa-436d-850c-44bdbea019e3",
   "metadata": {},
   "source": [
    "## Objects\n",
    "**object** (informally speaking) is a bundle of *properties* and *actions* about something specific\n",
    "\n",
    "Example:\n",
    "\n",
    "Object: data frame\n",
    "Properies: number of rows, names of columns, date created\n",
    "Actions: selecting a specific row, add a new column\n",
    "\n",
    "A variable is the name we ive to a specific object  and the same object can be referenced by different variables\n",
    "\n",
    "In practice, we can often use variable and oject interchangably\n",
    "\n",
    "## Types\n",
    "\n",
    "Every object in Python has a **type**. The type tells us what kind of object it is.\n",
    "\n",
    "We can also call the type of an object the **class** of the object and they both refer to the kind of object we have"
   ]
  },
  {
   "cell_type": "code",
   "execution_count": 3,
   "id": "a9dd7a17-379e-448c-a5c8-9ab5e62efc0a",
   "metadata": {
    "tags": []
   },
   "outputs": [
    {
     "name": "stdout",
     "output_type": "stream",
     "text": [
      "[[1 1 2]\n",
      " [3 5 8]]\n"
     ]
    }
   ],
   "source": [
    "print(a)\n",
    "\n",
    "# Check the type/class of a variable/object by using the 'type' function\n",
    "type(a)"
   ]
  },
  {
   "cell_type": "code",
   "execution_count": 5,
   "id": "2d533d7a-b4d2-45b4-b1b1-cf95dff601d1",
   "metadata": {},
   "outputs": [
    {
     "name": "stdout",
     "output_type": "stream",
     "text": [
      "1\n"
     ]
    },
    {
     "data": {
      "text/plain": [
       "numpy.int64"
      ]
     },
     "execution_count": 5,
     "metadata": {},
     "output_type": "execute_result"
    }
   ],
   "source": [
    "print(a[0,0])\n",
    "type(a[0,0])"
   ]
  },
  {
   "cell_type": "markdown",
   "id": "959522bd-4639-4e70-9769-3614f3c86d11",
   "metadata": {},
   "source": [
    "Notice that `type(a[0,0])` is `numpy.int64` and not just the standard Python integer type. This is telling us that 1 is an integer stored as a 64-bit number. "
   ]
  },
  {
   "cell_type": "code",
   "execution_count": 7,
   "id": "d8a8f0ef-0c46-4c94-b1cb-28c9faafb4c5",
   "metadata": {
    "tags": []
   },
   "outputs": [
    {
     "name": "stdout",
     "output_type": "stream",
     "text": [
      "5\n"
     ]
    }
   ],
   "source": [
    "print(a[1, 1])"
   ]
  },
  {
   "cell_type": "markdown",
   "id": "59c95022-14b4-41b4-80e1-1621e0d5759e",
   "metadata": {},
   "source": [
    "## Functions\n",
    "\n",
    "`print` was our first example of a python **function**.\n",
    "\n",
    "Functions take in a set of **arguments** and those arguements create an **output**.\n",
    "\n",
    "argument ~ parameter\n",
    "\n",
    "We can ask for information about a function by executing `?function`"
   ]
  },
  {
   "cell_type": "code",
   "execution_count": 8,
   "id": "763be706-ebdb-44a8-ba70-997ef0e4986a",
   "metadata": {
    "tags": []
   },
   "outputs": [
    {
     "data": {
      "text/plain": [
       "\u001b[0;31mSignature:\u001b[0m \u001b[0mprint\u001b[0m\u001b[0;34m(\u001b[0m\u001b[0;34m*\u001b[0m\u001b[0margs\u001b[0m\u001b[0;34m,\u001b[0m \u001b[0msep\u001b[0m\u001b[0;34m=\u001b[0m\u001b[0;34m' '\u001b[0m\u001b[0;34m,\u001b[0m \u001b[0mend\u001b[0m\u001b[0;34m=\u001b[0m\u001b[0;34m'\\n'\u001b[0m\u001b[0;34m,\u001b[0m \u001b[0mfile\u001b[0m\u001b[0;34m=\u001b[0m\u001b[0;32mNone\u001b[0m\u001b[0;34m,\u001b[0m \u001b[0mflush\u001b[0m\u001b[0;34m=\u001b[0m\u001b[0;32mFalse\u001b[0m\u001b[0;34m)\u001b[0m\u001b[0;34m\u001b[0m\u001b[0;34m\u001b[0m\u001b[0m\n",
       "\u001b[0;31mDocstring:\u001b[0m\n",
       "Prints the values to a stream, or to sys.stdout by default.\n",
       "\n",
       "sep\n",
       "  string inserted between values, default a space.\n",
       "end\n",
       "  string appended after the last value, default a newline.\n",
       "file\n",
       "  a file-like object (stream); defaults to the current sys.stdout.\n",
       "flush\n",
       "  whether to forcibly flush the stream.\n",
       "\u001b[0;31mType:\u001b[0m      builtin_function_or_method"
      ]
     },
     "metadata": {},
     "output_type": "display_data"
    }
   ],
   "source": [
    "?print"
   ]
  },
  {
   "cell_type": "markdown",
   "id": "1764569e-5efb-482e-84cf-bec2d7135d06",
   "metadata": {},
   "source": [
    "This information is a **docstring**. \n",
    "\n",
    "A function has two types of arugments:\n",
    "\n",
    "- **non-optional**: arguments *you* need to specify for the function to do something\n",
    "- **optional**: arguments that are pre-filled with a default value by the function. You can override them. Optional arguments appear inside the parenthesis in the form `optional_argument = default_value`"
   ]
  },
  {
   "cell_type": "code",
   "execution_count": 9,
   "id": "5b77a81a-bd69-46c8-83db-61ceb5bd2f80",
   "metadata": {
    "tags": []
   },
   "outputs": [
    {
     "name": "stdout",
     "output_type": "stream",
     "text": [
      "changing the default end argument:)"
     ]
    }
   ],
   "source": [
    "print('changing the default end argument', end = ' :)')"
   ]
  },
  {
   "cell_type": "markdown",
   "id": "d94b59b4-844c-4f47-843d-2a9047746109",
   "metadata": {},
   "source": [
    "## Attributes and Methods\n",
    "\n",
    "An object in python has attributes and methods\n",
    "\n",
    "- **attribute**: a property of an object, some piece of information about it\n",
    "- **method**: a procedure associated with an object, so it is an action where the main ingredient is the object\n",
    "\n",
    "Fish attributes:\n",
    "- length, color, species\n",
    "- die(), bite(), stir_fry()\n",
    "\n",
    "**Example**\n",
    "Attributes for `numpy.arrays`\n",
    "\n",
    "We can access a variable's methods and attributes by adding a period at the end of the variable's name\n",
    "\n",
    "`variable.method()` or `variable.attribute`"
   ]
  },
  {
   "cell_type": "code",
   "execution_count": 10,
   "id": "90868fb7-019f-4793-af51-f335c22a1633",
   "metadata": {
    "tags": []
   },
   "outputs": [
    {
     "data": {
      "text/plain": [
       "(2, 3)"
      ]
     },
     "execution_count": 10,
     "metadata": {},
     "output_type": "execute_result"
    }
   ],
   "source": [
    "a.shape"
   ]
  },
  {
   "cell_type": "code",
   "execution_count": 11,
   "id": "32b868b4-48a6-42f6-b2d4-ea17cb7002f5",
   "metadata": {
    "tags": []
   },
   "outputs": [],
   "source": [
    "type(a.shape)"
   ]
  },
  {
   "cell_type": "code",
   "execution_count": 13,
   "id": "356c37e7-3235-4d6a-bf4f-a169953d352c",
   "metadata": {
    "tags": []
   },
   "outputs": [
    {
     "data": {
      "text/plain": [
       "array([[1, 1, 2],\n",
       "       [3, 5, 8]])"
      ]
     },
     "execution_count": 13,
     "metadata": {},
     "output_type": "execute_result"
    }
   ],
   "source": [
    "a"
   ]
  },
  {
   "cell_type": "code",
   "execution_count": 14,
   "id": "e5be2619-9d65-4e0f-ab2b-cf92910a5f40",
   "metadata": {
    "tags": []
   },
   "outputs": [
    {
     "data": {
      "text/plain": [
       "array([1, 1, 2])"
      ]
     },
     "execution_count": 14,
     "metadata": {},
     "output_type": "execute_result"
    }
   ],
   "source": [
    "# Methods examples\n",
    "# min() returns the minimum value along a specified axis\n",
    "a.min(axis = 0)"
   ]
  },
  {
   "cell_type": "markdown",
   "id": "7e8d9f63-3e2f-4e62-8fb8-66fcfc14fd6e",
   "metadata": {},
   "source": [
    "## Check-in\n",
    "\n",
    "We can also call the `min` method without any parameters:"
   ]
  },
  {
   "cell_type": "code",
   "execution_count": 15,
   "id": "17e63c90-8d50-428c-9f5f-7b0249306324",
   "metadata": {
    "tags": []
   },
   "outputs": [
    {
     "data": {
      "text/plain": [
       "1"
      ]
     },
     "execution_count": 15,
     "metadata": {},
     "output_type": "execute_result"
    }
   ],
   "source": [
    "a.min()"
   ]
  },
  {
   "cell_type": "markdown",
   "id": "18e987a0-cdc3-4e65-8e1d-395d2acdf47b",
   "metadata": {},
   "source": [
    "Remember: methods are functions associated with an object. "
   ]
  },
  {
   "cell_type": "code",
   "execution_count": 17,
   "id": "405be9ce-311c-4b36-a0f1-83846f9d7441",
   "metadata": {
    "tags": []
   },
   "outputs": [
    {
     "data": {
      "text/plain": [
       "builtin_function_or_method"
      ]
     },
     "execution_count": 17,
     "metadata": {},
     "output_type": "execute_result"
    }
   ],
   "source": [
    "type(a.min)"
   ]
  },
  {
   "cell_type": "markdown",
   "id": "22d7c57b-573e-47f1-bc96-d7e53df7fb35",
   "metadata": {},
   "source": [
    "## Exercise\n",
    "\n",
    "1. Read the `print` function help. What is the type of the argument `sep`? Is this an optional or non-optional argument? Why?\n",
    "2. Create two new variables, one with the integer value 77 and one with the string 99.\n",
    "3. Use your variables to print `77%99%77` by changing the value of one of the optional argument default values in `print`."
   ]
  },
  {
   "cell_type": "code",
   "execution_count": 18,
   "id": "97d609d4-53fe-44e9-9f1d-216effd18e96",
   "metadata": {
    "tags": []
   },
   "outputs": [
    {
     "data": {
      "text/plain": [
       "\u001b[0;31mSignature:\u001b[0m \u001b[0mprint\u001b[0m\u001b[0;34m(\u001b[0m\u001b[0;34m*\u001b[0m\u001b[0margs\u001b[0m\u001b[0;34m,\u001b[0m \u001b[0msep\u001b[0m\u001b[0;34m=\u001b[0m\u001b[0;34m' '\u001b[0m\u001b[0;34m,\u001b[0m \u001b[0mend\u001b[0m\u001b[0;34m=\u001b[0m\u001b[0;34m'\\n'\u001b[0m\u001b[0;34m,\u001b[0m \u001b[0mfile\u001b[0m\u001b[0;34m=\u001b[0m\u001b[0;32mNone\u001b[0m\u001b[0;34m,\u001b[0m \u001b[0mflush\u001b[0m\u001b[0;34m=\u001b[0m\u001b[0;32mFalse\u001b[0m\u001b[0;34m)\u001b[0m\u001b[0;34m\u001b[0m\u001b[0;34m\u001b[0m\u001b[0m\n",
       "\u001b[0;31mDocstring:\u001b[0m\n",
       "Prints the values to a stream, or to sys.stdout by default.\n",
       "\n",
       "sep\n",
       "  string inserted between values, default a space.\n",
       "end\n",
       "  string appended after the last value, default a newline.\n",
       "file\n",
       "  a file-like object (stream); defaults to the current sys.stdout.\n",
       "flush\n",
       "  whether to forcibly flush the stream.\n",
       "\u001b[0;31mType:\u001b[0m      builtin_function_or_method"
      ]
     },
     "metadata": {},
     "output_type": "display_data"
    }
   ],
   "source": [
    "# 1\n",
    "?print"
   ]
  },
  {
   "cell_type": "code",
   "execution_count": 19,
   "id": "07d6bd8d-31f5-4780-851b-ad397b0f44b1",
   "metadata": {
    "tags": []
   },
   "outputs": [
    {
     "name": "stdout",
     "output_type": "stream",
     "text": [
      "77%99%77\n"
     ]
    }
   ],
   "source": [
    "# 2\n",
    "my_int = 77\n",
    "my_str = '99'\n",
    "\n",
    "# 3\n",
    "print(my_int, my_str, my_int, sep = \"%\")"
   ]
  }
 ],
 "metadata": {
  "kernelspec": {
   "display_name": "EDS220",
   "language": "python",
   "name": "eds220-env"
  },
  "language_info": {
   "codemirror_mode": {
    "name": "ipython",
    "version": 3
   },
   "file_extension": ".py",
   "mimetype": "text/x-python",
   "name": "python",
   "nbconvert_exporter": "python",
   "pygments_lexer": "ipython3",
   "version": "3.11.4"
  }
 },
 "nbformat": 4,
 "nbformat_minor": 5
}
