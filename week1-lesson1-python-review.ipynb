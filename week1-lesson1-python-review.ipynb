{
 "cells": [
  {
   "cell_type": "markdown",
   "id": "3a51e4b0-21c4-42cc-b20e-6f9bdd42241f",
   "metadata": {},
   "source": [
    "# Python review\n",
    "\n",
    "Goals:\n",
    "- recall basic Python vocabulary\n",
    "- practice markdown\n",
    "\n",
    "## Libraries and packages\n",
    "\n",
    "**library**: a collection of code that we can use to perform specific taks in our programs\n",
    "\n",
    "**NumPy**:\n",
    "- core library for numerical computing in python\n",
    "- many other pibraries use NumPy arrays as building blocks\n",
    "- computations on NumPy are optomized for speed and memory usage\n",
    "\n",
    "Lets import NumPy with **standard abreviation**"
   ]
  },
  {
   "cell_type": "code",
   "execution_count": 2,
   "id": "7f0b3797-26f2-405d-8b7c-b3038c13f484",
   "metadata": {
    "tags": []
   },
   "outputs": [],
   "source": [
    "import numpy as np"
   ]
  },
  {
   "cell_type": "markdown",
   "id": "69936e08-f0be-4464-8c59-32f4a4c31a3d",
   "metadata": {},
   "source": [
    "## Variables\n",
    "\n",
    "**variable**: a name we assign to a particular object in Python\n",
    "\n",
    "Example:"
   ]
  },
  {
   "cell_type": "code",
   "execution_count": 4,
   "id": "fbcc7cb0-9b57-4f5f-91fd-2be91270458b",
   "metadata": {
    "tags": []
   },
   "outputs": [
    {
     "name": "stdout",
     "output_type": "stream",
     "text": [
      "[[1 1 2]\n",
      " [3 5 8]]\n"
     ]
    }
   ],
   "source": [
    "# Assign a small array to a variable a\n",
    "a = np.array([[1,1,2], [3,5,8]])\n",
    "\n",
    "# Show the value\n",
    "a\n",
    "\n",
    "# Print the value\n",
    "print(a)"
   ]
  },
  {
   "cell_type": "markdown",
   "id": "a2367ab8-c9fa-436d-850c-44bdbea019e3",
   "metadata": {},
   "source": [
    "## Objects\n",
    "**object** (informally speaking) is a bundle of *properties* and *actions* about something specific\n",
    "\n",
    "Example:\n",
    "\n",
    "Object: data frame\n",
    "Properies: number of rows, names of columns, date created\n",
    "Actions: selecting a specific row, add a new column\n",
    "\n",
    "A variable is the name we ive to a specific object  and the same object can be referenced by different variables\n",
    "\n",
    "In practice, we can often use variable and oject interchangably\n",
    "\n"
   ]
  },
  {
   "cell_type": "code",
   "execution_count": null,
   "id": "2d533d7a-b4d2-45b4-b1b1-cf95dff601d1",
   "metadata": {},
   "outputs": [],
   "source": []
  }
 ],
 "metadata": {
  "kernelspec": {
   "display_name": "EDS220",
   "language": "python",
   "name": "eds220-env"
  },
  "language_info": {
   "codemirror_mode": {
    "name": "ipython",
    "version": 3
   },
   "file_extension": ".py",
   "mimetype": "text/x-python",
   "name": "python",
   "nbconvert_exporter": "python",
   "pygments_lexer": "ipython3",
   "version": "3.11.4"
  }
 },
 "nbformat": 4,
 "nbformat_minor": 5
}
